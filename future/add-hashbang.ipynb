{
 "cells": [
  {
   "cell_type": "markdown",
   "id": "4f0f3ddd-3495-41bd-a233-25c62bc2d782",
   "metadata": {},
   "source": [
    "# add-hashbang.py: add hashbangs lines to files that don't have them."
   ]
  },
  {
   "cell_type": "markdown",
   "id": "2d28755f-58f6-4b29-a540-c5825da0d2ea",
   "metadata": {},
   "source": [
    "This script takes a list of files as arguments and adds a hashbang to the top\n",
    "of each file. If the file already has a hashbang, it will not be modified. It\n",
    "guesses the hashbang based on the file extension. There is an option to use\n",
    "OpenAI GPT API to guess the hashbang based on the file contents when\n",
    "necessary, if enabled."
   ]
  },
  {
   "cell_type": "code",
   "execution_count": null,
   "id": "d8cc669d-19f6-4681-bddb-f759d5b0d79a",
   "metadata": {},
   "outputs": [],
   "source": [
    "import argparse\n",
    "import os\n",
    "import re\n",
    "import shutil\n",
    "import sys"
   ]
  },
  {
   "cell_type": "code",
   "execution_count": null,
   "id": "7493878b-faf3-4031-ab3d-8c240c0fb400",
   "metadata": {},
   "outputs": [],
   "source": [
    "# The hashbangs to use for different file extensions.\n",
    "EXT_HASHBANGS = {\n",
    "    '.py': '#!/usr/bin/env python3',\n",
    "    '.sh': '#!/bin/bash',\n",
    "    '.pl': '#!/usr/bin/env perl',\n",
    "}\n",
    "\n",
    "# The hashbang to use if no other hashbang is found.\n",
    "DEFAULT_HASHBANG = '#!/bin/bash'\n",
    "\n",
    "# The maximum amount of bytes to read from a file when guessing the hashbang.\n",
    "MAX_BYTES = 1024\n",
    "\n",
    "# The regular expression to use when guessing the hashbang of a file.\n",
    "RE_HASHBANG = re.compile(r'^#!\\s*(\\S+)(\\s+(.*))?\\s*$')\n",
    "\n",
    "def has_hashbang(file_head):\n",
    "    return re.match(RE_HASHBANG, file_head)"
   ]
  },
  {
   "cell_type": "code",
   "execution_count": null,
   "id": "41517a0f-0282-4de7-9fcf-a1ddb40259ec",
   "metadata": {},
   "outputs": [],
   "source": [
    "def guess_hashbang_by_extension(path):\n",
    "    \"\"\" Guess the hashbang of a file based on its extension. \"\"\"\n",
    "    _, ext = os.path.splitext(path)\n",
    "    if ext\n",
    "    return EXT_HASHBANGS.get(ext, DEFAULT_HASHBANG)\n",
    "\n",
    "    \"\"\"Guess the hashbang of a file based on its extension or contents.\n",
    "\n",
    "    Arguments:\n",
    "        path: The path to the file to guess the hashbang of.\n",
    "\n",
    "    Returns:\n",
    "        A hashbang string.\n",
    "    \"\"\"\n",
    "    # Guess the"
   ]
  }
 ],
 "metadata": {
  "kernelspec": {
   "display_name": "python3",
   "language": "python",
   "name": "python3"
  }
 },
 "nbformat": 4,
 "nbformat_minor": 5
}
